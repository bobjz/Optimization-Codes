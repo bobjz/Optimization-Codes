{
 "cells": [
  {
   "cell_type": "code",
   "execution_count": 1,
   "id": "0906fb99-23b1-4249-b9bd-42083514c8bb",
   "metadata": {},
   "outputs": [],
   "source": [
    "import numpy as np\n",
    "import matplotlib.pyplot as plt\n",
    "import scipy.linalg as cp\n",
    "import numpy.linalg "
   ]
  },
  {
   "cell_type": "code",
   "execution_count": 2,
   "id": "d3a4253a-2102-4917-b302-df355d745494",
   "metadata": {},
   "outputs": [],
   "source": [
    "q1=np.random.normal(0,0.25,10)\n",
    "q2=np.random.normal(1,0.25,10)\n",
    "m1=10; m2=10; M=20; "
   ]
  },
  {
   "cell_type": "code",
   "execution_count": 3,
   "id": "f77d8775-7333-4a44-9b17-2b80ff77a729",
   "metadata": {},
   "outputs": [],
   "source": [
    "E11=np.kron(np.eye(m1),np.ones([1,M]))\n",
    "E12=np.kron(np.eye(m2),np.ones([1,M]))"
   ]
  },
  {
   "cell_type": "code",
   "execution_count": 4,
   "id": "a1a85fe2-5caa-443b-a4d6-f5663602ac46",
   "metadata": {},
   "outputs": [],
   "source": [
    "E1=cp.block_diag(E11,E12)"
   ]
  },
  {
   "cell_type": "code",
   "execution_count": 5,
   "id": "6d13db7b-6838-4882-8882-619a07b92418",
   "metadata": {},
   "outputs": [],
   "source": [
    "E1_=np.concatenate((E1,np.zeros([M,M])),axis=1)"
   ]
  },
  {
   "cell_type": "code",
   "execution_count": 6,
   "id": "a92fd1c0-d5f0-425d-bd99-3eaec1ade100",
   "metadata": {},
   "outputs": [
    {
     "data": {
      "text/plain": [
       "(20, 420)"
      ]
     },
     "execution_count": 6,
     "metadata": {},
     "output_type": "execute_result"
    }
   ],
   "source": [
    "E1_.shape"
   ]
  },
  {
   "cell_type": "code",
   "execution_count": 7,
   "id": "dc2fd64c-5d72-48b5-8382-aad42324d3da",
   "metadata": {},
   "outputs": [],
   "source": [
    "E21=np.kron(np.ones([1,m1]),np.eye(M));\n",
    "E22=np.kron(np.ones([1,m2]),np.eye(M));\n",
    "E2=cp.block_diag(E21,E22)"
   ]
  },
  {
   "cell_type": "code",
   "execution_count": 8,
   "id": "7e705b07-5b53-4931-a6e6-0400502687c0",
   "metadata": {},
   "outputs": [],
   "source": [
    "N=2"
   ]
  },
  {
   "cell_type": "code",
   "execution_count": 9,
   "id": "6af9d977-af5d-43e7-887f-344411adc3ea",
   "metadata": {},
   "outputs": [
    {
     "data": {
      "text/plain": [
       "(40, 20)"
      ]
     },
     "execution_count": 9,
     "metadata": {},
     "output_type": "execute_result"
    }
   ],
   "source": [
    "E3=np.kron(-np.ones([N,1]),np.eye(M))\n",
    "E3.shape"
   ]
  },
  {
   "cell_type": "code",
   "execution_count": 10,
   "id": "5c3867d2-023a-41a3-99c9-653d0e8bff6e",
   "metadata": {},
   "outputs": [],
   "source": [
    "E2_=np.concatenate((E2,E3),axis=1)"
   ]
  },
  {
   "cell_type": "code",
   "execution_count": 11,
   "id": "fca2fe16-c580-40e1-97a4-161ad55a2430",
   "metadata": {},
   "outputs": [
    {
     "data": {
      "text/plain": [
       "(40, 420)"
      ]
     },
     "execution_count": 11,
     "metadata": {},
     "output_type": "execute_result"
    }
   ],
   "source": [
    "E2_.shape"
   ]
  },
  {
   "cell_type": "code",
   "execution_count": 12,
   "id": "eef91207-9083-422c-96c4-f84f23e3fe08",
   "metadata": {},
   "outputs": [],
   "source": [
    "E4_=np.concatenate([np.zeros([1,M*M]),np.ones([1,M])],axis=1)"
   ]
  },
  {
   "cell_type": "code",
   "execution_count": 13,
   "id": "cf4c173a-7dac-4123-8315-b25a76b9e14a",
   "metadata": {},
   "outputs": [
    {
     "data": {
      "text/plain": [
       "(1, 420)"
      ]
     },
     "execution_count": 13,
     "metadata": {},
     "output_type": "execute_result"
    }
   ],
   "source": [
    "E4_.shape"
   ]
  },
  {
   "cell_type": "code",
   "execution_count": 14,
   "id": "1e6685bc-49bd-4f97-aa37-dc49e47f5358",
   "metadata": {},
   "outputs": [],
   "source": [
    "A=np.concatenate([E1_,E2_,E4_],axis=0)"
   ]
  },
  {
   "cell_type": "code",
   "execution_count": 15,
   "id": "3320f827-0293-4268-b689-94cac42bc125",
   "metadata": {},
   "outputs": [
    {
     "data": {
      "text/plain": [
       "(61, 420)"
      ]
     },
     "execution_count": 15,
     "metadata": {},
     "output_type": "execute_result"
    }
   ],
   "source": [
    "A.shape"
   ]
  },
  {
   "cell_type": "code",
   "execution_count": 16,
   "id": "3462e4e5-c99f-450f-822b-8c3f62064fd5",
   "metadata": {},
   "outputs": [],
   "source": [
    "index=[i*M for i in range(1,N+1)]"
   ]
  },
  {
   "cell_type": "code",
   "execution_count": 17,
   "id": "07252235-9717-4d5f-9de8-6e9a80bfc3ac",
   "metadata": {},
   "outputs": [
    {
     "data": {
      "text/plain": [
       "[20, 40]"
      ]
     },
     "execution_count": 17,
     "metadata": {},
     "output_type": "execute_result"
    }
   ],
   "source": [
    "index"
   ]
  },
  {
   "cell_type": "code",
   "execution_count": 18,
   "id": "60659593-1017-4c29-9944-6a89d5118e9a",
   "metadata": {},
   "outputs": [],
   "source": [
    "A=np.delete(A,index,axis=0)"
   ]
  },
  {
   "cell_type": "code",
   "execution_count": 19,
   "id": "982bc5bd-255e-4dc2-91cb-4fccc475964b",
   "metadata": {},
   "outputs": [
    {
     "data": {
      "text/plain": [
       "(59, 420)"
      ]
     },
     "execution_count": 19,
     "metadata": {},
     "output_type": "execute_result"
    }
   ],
   "source": [
    "A.shape"
   ]
  },
  {
   "cell_type": "code",
   "execution_count": 20,
   "id": "e113a240-b7e9-4e95-bd01-fbe281a9cdff",
   "metadata": {},
   "outputs": [
    {
     "data": {
      "text/plain": [
       "59"
      ]
     },
     "execution_count": 20,
     "metadata": {},
     "output_type": "execute_result"
    }
   ],
   "source": [
    "numpy.linalg.matrix_rank(A)"
   ]
  },
  {
   "cell_type": "code",
   "execution_count": 21,
   "id": "28c6e4ee-1792-4753-8a23-a0964b584d1a",
   "metadata": {},
   "outputs": [],
   "source": [
    "b=np.concatenate([np.ones([1,m1])/m1,np.ones([1,m2])/m2,np.zeros([1,M*N]),np.ones([1,1])],axis=1)"
   ]
  },
  {
   "cell_type": "code",
   "execution_count": 22,
   "id": "0f2dafb2-e617-4e06-b387-d536b6e9b2d2",
   "metadata": {},
   "outputs": [],
   "source": [
    "b=np.transpose(b)"
   ]
  },
  {
   "cell_type": "code",
   "execution_count": 23,
   "id": "90ef03df-0f67-4d23-afc3-6c1e8f9fd4ec",
   "metadata": {},
   "outputs": [
    {
     "data": {
      "text/plain": [
       "(61, 1)"
      ]
     },
     "execution_count": 23,
     "metadata": {},
     "output_type": "execute_result"
    }
   ],
   "source": [
    "b.shape"
   ]
  },
  {
   "cell_type": "code",
   "execution_count": 24,
   "id": "db09147f-2928-40f0-8a34-5b1469810c41",
   "metadata": {},
   "outputs": [],
   "source": [
    "b=np.delete(b,index,axis=0)"
   ]
  },
  {
   "cell_type": "code",
   "execution_count": 25,
   "id": "43414e5a-e0bf-45fa-80e8-eae7040acf40",
   "metadata": {},
   "outputs": [
    {
     "data": {
      "text/plain": [
       "(59, 1)"
      ]
     },
     "execution_count": 25,
     "metadata": {},
     "output_type": "execute_result"
    }
   ],
   "source": [
    "b.shape"
   ]
  },
  {
   "cell_type": "code",
   "execution_count": 26,
   "id": "c6ef90b6-f0f7-4c8b-bff8-77ee5f073c11",
   "metadata": {},
   "outputs": [],
   "source": [
    "q=np.concatenate([q1,q2])"
   ]
  },
  {
   "cell_type": "code",
   "execution_count": 27,
   "id": "7e583320-b06a-417c-863b-8013d827e9cc",
   "metadata": {},
   "outputs": [],
   "source": [
    "d1=[]\n",
    "for i in range(m1):\n",
    "    for j in range(M):\n",
    "        d1.append((q1[i]-q[j])**2)\n",
    "d1=np.array(d1)"
   ]
  },
  {
   "cell_type": "code",
   "execution_count": 28,
   "id": "47d6e810-544f-4316-8358-6e32ed14738c",
   "metadata": {},
   "outputs": [],
   "source": [
    "d2=[]\n",
    "for i in range(m2):\n",
    "    for j in range(M):\n",
    "        d2.append((q2[i]-q[j])**2)\n",
    "d2=np.array(d2)"
   ]
  },
  {
   "cell_type": "code",
   "execution_count": 29,
   "id": "fb6fed93-1274-410b-ac93-8eced896272c",
   "metadata": {},
   "outputs": [],
   "source": [
    "c=np.concatenate([d1,d2,np.zeros([M])])"
   ]
  },
  {
   "cell_type": "code",
   "execution_count": 30,
   "id": "8c2bf929-4273-4fc9-bc28-f859a6c31e97",
   "metadata": {},
   "outputs": [
    {
     "data": {
      "text/plain": [
       "(420,)"
      ]
     },
     "execution_count": 30,
     "metadata": {},
     "output_type": "execute_result"
    }
   ],
   "source": [
    "c.shape"
   ]
  },
  {
   "cell_type": "code",
   "execution_count": 31,
   "id": "562376f7-384d-489e-9593-44e2a5ff6cf0",
   "metadata": {},
   "outputs": [
    {
     "data": {
      "text/plain": [
       "(420, 1)"
      ]
     },
     "execution_count": 31,
     "metadata": {},
     "output_type": "execute_result"
    }
   ],
   "source": [
    "c=np.reshape(c,[-1,1])\n",
    "c.shape"
   ]
  },
  {
   "cell_type": "code",
   "execution_count": 32,
   "id": "e0c01ba0-ff7f-4a00-ac2c-ebd634d65260",
   "metadata": {},
   "outputs": [],
   "source": [
    "np.save(\"P1A\",A)"
   ]
  },
  {
   "cell_type": "code",
   "execution_count": 33,
   "id": "8161a788-ab12-4d5e-b724-23b2310cfe33",
   "metadata": {},
   "outputs": [],
   "source": [
    "np.save(\"P1b\",b)"
   ]
  },
  {
   "cell_type": "code",
   "execution_count": 34,
   "id": "f0ba9371-ea39-4a8a-b770-5a04baaa9086",
   "metadata": {},
   "outputs": [],
   "source": [
    "np.save(\"P1c\",c)"
   ]
  },
  {
   "cell_type": "code",
   "execution_count": 35,
   "id": "bc84fd35-a3b2-40d5-9b64-efcfbb77c668",
   "metadata": {},
   "outputs": [],
   "source": [
    "np.save(\"P1q\",[q1,q2])"
   ]
  },
  {
   "cell_type": "code",
   "execution_count": null,
   "id": "4485e359-f9b0-4caf-9178-2d239a5bfc14",
   "metadata": {},
   "outputs": [],
   "source": []
  }
 ],
 "metadata": {
  "kernelspec": {
   "display_name": "Python 3",
   "language": "python",
   "name": "python3"
  },
  "language_info": {
   "codemirror_mode": {
    "name": "ipython",
    "version": 3
   },
   "file_extension": ".py",
   "mimetype": "text/x-python",
   "name": "python",
   "nbconvert_exporter": "python",
   "pygments_lexer": "ipython3",
   "version": "3.9.10"
  }
 },
 "nbformat": 4,
 "nbformat_minor": 5
}
