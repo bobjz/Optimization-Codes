{
 "cells": [
  {
   "cell_type": "code",
   "execution_count": 3,
   "id": "0906fb99-23b1-4249-b9bd-42083514c8bb",
   "metadata": {},
   "outputs": [],
   "source": [
    "import numpy as np\n",
    "import matplotlib.pyplot as plt\n",
    "import scipy.linalg as cp\n",
    "import numpy.linalg "
   ]
  },
  {
   "cell_type": "code",
   "execution_count": 4,
   "id": "d3a4253a-2102-4917-b302-df355d745494",
   "metadata": {},
   "outputs": [],
   "source": [
    "q1=np.random.normal(0,5,20)\n",
    "q2=np.random.normal(20,10,30)\n",
    "q3=np.random.normal(50,5,10)\n",
    "m1=20; m2=30; m3=10; M=60; d=1;"
   ]
  },
  {
   "cell_type": "code",
   "execution_count": 5,
   "id": "f77d8775-7333-4a44-9b17-2b80ff77a729",
   "metadata": {},
   "outputs": [],
   "source": [
    "E11=np.kron(np.eye(m1),np.ones([1,M]))\n",
    "E12=np.kron(np.eye(m2),np.ones([1,M]))\n",
    "E13=np.kron(np.eye(m3),np.ones([1,M]))"
   ]
  },
  {
   "cell_type": "code",
   "execution_count": 6,
   "id": "a1a85fe2-5caa-443b-a4d6-f5663602ac46",
   "metadata": {},
   "outputs": [],
   "source": [
    "E1=cp.block_diag(E11,E12,E13)"
   ]
  },
  {
   "cell_type": "code",
   "execution_count": 7,
   "id": "6d13db7b-6838-4882-8882-619a07b92418",
   "metadata": {},
   "outputs": [],
   "source": [
    "E1_=np.concatenate((E1,np.zeros([M,M])),axis=1)"
   ]
  },
  {
   "cell_type": "code",
   "execution_count": 8,
   "id": "a92fd1c0-d5f0-425d-bd99-3eaec1ade100",
   "metadata": {},
   "outputs": [
    {
     "data": {
      "text/plain": [
       "(60, 3660)"
      ]
     },
     "execution_count": 8,
     "metadata": {},
     "output_type": "execute_result"
    }
   ],
   "source": [
    "E1_.shape"
   ]
  },
  {
   "cell_type": "code",
   "execution_count": 9,
   "id": "dc2fd64c-5d72-48b5-8382-aad42324d3da",
   "metadata": {},
   "outputs": [],
   "source": [
    "E21=np.kron(np.ones([1,m1]),np.eye(M));\n",
    "E22=np.kron(np.ones([1,m2]),np.eye(M));\n",
    "E23=np.kron(np.ones([1,m3]),np.eye(M));\n",
    "E2=cp.block_diag(E21,E22,E23)"
   ]
  },
  {
   "cell_type": "code",
   "execution_count": 10,
   "id": "7e705b07-5b53-4931-a6e6-0400502687c0",
   "metadata": {},
   "outputs": [],
   "source": [
    "N=3"
   ]
  },
  {
   "cell_type": "code",
   "execution_count": 11,
   "id": "6af9d977-af5d-43e7-887f-344411adc3ea",
   "metadata": {},
   "outputs": [
    {
     "data": {
      "text/plain": [
       "(180, 60)"
      ]
     },
     "execution_count": 11,
     "metadata": {},
     "output_type": "execute_result"
    }
   ],
   "source": [
    "E3=np.kron(-np.ones([N,1]),np.eye(M))\n",
    "E3.shape"
   ]
  },
  {
   "cell_type": "code",
   "execution_count": 12,
   "id": "5c3867d2-023a-41a3-99c9-653d0e8bff6e",
   "metadata": {},
   "outputs": [],
   "source": [
    "E2_=np.concatenate((E2,E3),axis=1)"
   ]
  },
  {
   "cell_type": "code",
   "execution_count": 13,
   "id": "fca2fe16-c580-40e1-97a4-161ad55a2430",
   "metadata": {},
   "outputs": [
    {
     "data": {
      "text/plain": [
       "(180, 3660)"
      ]
     },
     "execution_count": 13,
     "metadata": {},
     "output_type": "execute_result"
    }
   ],
   "source": [
    "E2_.shape"
   ]
  },
  {
   "cell_type": "code",
   "execution_count": 14,
   "id": "eef91207-9083-422c-96c4-f84f23e3fe08",
   "metadata": {},
   "outputs": [],
   "source": [
    "E4_=np.concatenate([np.zeros([1,M*M]),np.ones([1,M])],axis=1)"
   ]
  },
  {
   "cell_type": "code",
   "execution_count": 15,
   "id": "cf4c173a-7dac-4123-8315-b25a76b9e14a",
   "metadata": {},
   "outputs": [
    {
     "data": {
      "text/plain": [
       "(1, 3660)"
      ]
     },
     "execution_count": 15,
     "metadata": {},
     "output_type": "execute_result"
    }
   ],
   "source": [
    "E4_.shape"
   ]
  },
  {
   "cell_type": "code",
   "execution_count": 16,
   "id": "1e6685bc-49bd-4f97-aa37-dc49e47f5358",
   "metadata": {},
   "outputs": [],
   "source": [
    "A=np.concatenate([E1_,E2_,E4_],axis=0)"
   ]
  },
  {
   "cell_type": "code",
   "execution_count": 17,
   "id": "3320f827-0293-4268-b689-94cac42bc125",
   "metadata": {},
   "outputs": [
    {
     "data": {
      "text/plain": [
       "(241, 3660)"
      ]
     },
     "execution_count": 17,
     "metadata": {},
     "output_type": "execute_result"
    }
   ],
   "source": [
    "A.shape"
   ]
  },
  {
   "cell_type": "code",
   "execution_count": 18,
   "id": "3462e4e5-c99f-450f-822b-8c3f62064fd5",
   "metadata": {},
   "outputs": [],
   "source": [
    "index=[i*M for i in range(1,N+1)]"
   ]
  },
  {
   "cell_type": "code",
   "execution_count": 19,
   "id": "07252235-9717-4d5f-9de8-6e9a80bfc3ac",
   "metadata": {},
   "outputs": [
    {
     "data": {
      "text/plain": [
       "[60, 120, 180]"
      ]
     },
     "execution_count": 19,
     "metadata": {},
     "output_type": "execute_result"
    }
   ],
   "source": [
    "index"
   ]
  },
  {
   "cell_type": "code",
   "execution_count": 20,
   "id": "60659593-1017-4c29-9944-6a89d5118e9a",
   "metadata": {},
   "outputs": [],
   "source": [
    "A=np.delete(A,index,axis=0)"
   ]
  },
  {
   "cell_type": "code",
   "execution_count": 21,
   "id": "982bc5bd-255e-4dc2-91cb-4fccc475964b",
   "metadata": {},
   "outputs": [
    {
     "data": {
      "text/plain": [
       "(238, 3660)"
      ]
     },
     "execution_count": 21,
     "metadata": {},
     "output_type": "execute_result"
    }
   ],
   "source": [
    "A.shape"
   ]
  },
  {
   "cell_type": "code",
   "execution_count": 22,
   "id": "e113a240-b7e9-4e95-bd01-fbe281a9cdff",
   "metadata": {},
   "outputs": [
    {
     "data": {
      "text/plain": [
       "238"
      ]
     },
     "execution_count": 22,
     "metadata": {},
     "output_type": "execute_result"
    }
   ],
   "source": [
    "numpy.linalg.matrix_rank(A)"
   ]
  },
  {
   "cell_type": "code",
   "execution_count": 23,
   "id": "28c6e4ee-1792-4753-8a23-a0964b584d1a",
   "metadata": {},
   "outputs": [],
   "source": [
    "b=np.concatenate([np.ones([1,m1])/m1,np.ones([1,m2])/m2,np.ones([1,m3])/m3,np.zeros([1,M*N]),np.ones([1,1])],axis=1)"
   ]
  },
  {
   "cell_type": "code",
   "execution_count": 24,
   "id": "0f2dafb2-e617-4e06-b387-d536b6e9b2d2",
   "metadata": {},
   "outputs": [],
   "source": [
    "b=np.transpose(b)"
   ]
  },
  {
   "cell_type": "code",
   "execution_count": 25,
   "id": "90ef03df-0f67-4d23-afc3-6c1e8f9fd4ec",
   "metadata": {},
   "outputs": [
    {
     "data": {
      "text/plain": [
       "(241, 1)"
      ]
     },
     "execution_count": 25,
     "metadata": {},
     "output_type": "execute_result"
    }
   ],
   "source": [
    "b.shape"
   ]
  },
  {
   "cell_type": "code",
   "execution_count": 26,
   "id": "db09147f-2928-40f0-8a34-5b1469810c41",
   "metadata": {},
   "outputs": [],
   "source": [
    "b=np.delete(b,index,axis=0)"
   ]
  },
  {
   "cell_type": "code",
   "execution_count": 27,
   "id": "43414e5a-e0bf-45fa-80e8-eae7040acf40",
   "metadata": {},
   "outputs": [
    {
     "data": {
      "text/plain": [
       "(238, 1)"
      ]
     },
     "execution_count": 27,
     "metadata": {},
     "output_type": "execute_result"
    }
   ],
   "source": [
    "b.shape"
   ]
  },
  {
   "cell_type": "code",
   "execution_count": 29,
   "id": "c6ef90b6-f0f7-4c8b-bff8-77ee5f073c11",
   "metadata": {},
   "outputs": [],
   "source": [
    "q=np.concatenate([q1,q2,q3])"
   ]
  },
  {
   "cell_type": "code",
   "execution_count": 30,
   "id": "7e583320-b06a-417c-863b-8013d827e9cc",
   "metadata": {},
   "outputs": [],
   "source": [
    "d1=[]\n",
    "for i in range(m1):\n",
    "    for j in range(M):\n",
    "        d1.append((q1[i]-q[j])**2)\n",
    "d1=np.array(d1)"
   ]
  },
  {
   "cell_type": "code",
   "execution_count": 31,
   "id": "47d6e810-544f-4316-8358-6e32ed14738c",
   "metadata": {},
   "outputs": [],
   "source": [
    "d2=[]\n",
    "for i in range(m2):\n",
    "    for j in range(M):\n",
    "        d2.append((q2[i]-q[j])**2)\n",
    "d2=np.array(d2)"
   ]
  },
  {
   "cell_type": "code",
   "execution_count": 32,
   "id": "d9092083-883b-4c30-a035-0a9cef165b85",
   "metadata": {},
   "outputs": [],
   "source": [
    "d3=[]\n",
    "for i in range(m3):\n",
    "    for j in range(M):\n",
    "        d3.append((q3[i]-q[j])**2)\n",
    "d3=np.array(d3)"
   ]
  },
  {
   "cell_type": "code",
   "execution_count": 33,
   "id": "fb6fed93-1274-410b-ac93-8eced896272c",
   "metadata": {},
   "outputs": [],
   "source": [
    "c=np.concatenate([d1,d2,d3,np.zeros([M])])"
   ]
  },
  {
   "cell_type": "code",
   "execution_count": 34,
   "id": "8c2bf929-4273-4fc9-bc28-f859a6c31e97",
   "metadata": {},
   "outputs": [
    {
     "data": {
      "text/plain": [
       "(3660,)"
      ]
     },
     "execution_count": 34,
     "metadata": {},
     "output_type": "execute_result"
    }
   ],
   "source": [
    "c.shape"
   ]
  },
  {
   "cell_type": "code",
   "execution_count": 35,
   "id": "562376f7-384d-489e-9593-44e2a5ff6cf0",
   "metadata": {},
   "outputs": [
    {
     "data": {
      "text/plain": [
       "(3660, 1)"
      ]
     },
     "execution_count": 35,
     "metadata": {},
     "output_type": "execute_result"
    }
   ],
   "source": [
    "c=np.reshape(c,[-1,1])\n",
    "c.shape"
   ]
  },
  {
   "cell_type": "code",
   "execution_count": 36,
   "id": "e0c01ba0-ff7f-4a00-ac2c-ebd634d65260",
   "metadata": {},
   "outputs": [],
   "source": [
    "np.save(\"P2A\",A)"
   ]
  },
  {
   "cell_type": "code",
   "execution_count": 37,
   "id": "8161a788-ab12-4d5e-b724-23b2310cfe33",
   "metadata": {},
   "outputs": [],
   "source": [
    "np.save(\"P2b\",b)"
   ]
  },
  {
   "cell_type": "code",
   "execution_count": 38,
   "id": "f0ba9371-ea39-4a8a-b770-5a04baaa9086",
   "metadata": {},
   "outputs": [],
   "source": [
    "np.save(\"P2c\",c)"
   ]
  },
  {
   "cell_type": "code",
   "execution_count": 39,
   "id": "bc84fd35-a3b2-40d5-9b64-efcfbb77c668",
   "metadata": {},
   "outputs": [
    {
     "data": {
      "text/plain": [
       "array([ 2.13647389, -2.64470809,  5.84631894, -6.98020947, -2.94254153,\n",
       "        0.04958081, -6.58950368,  0.95205625, -5.73286034, -0.09772471,\n",
       "       -1.41441751,  4.08656681, -3.81226385,  0.27255582, -5.02069786,\n",
       "       -3.17954019,  7.19494216, -8.38522149, -9.47602305,  4.71295821])"
      ]
     },
     "execution_count": 39,
     "metadata": {},
     "output_type": "execute_result"
    }
   ],
   "source": [
    "q1"
   ]
  },
  {
   "cell_type": "code",
   "execution_count": 40,
   "id": "b02a2288-4a30-41f4-8ff7-01a0d4397cdb",
   "metadata": {},
   "outputs": [
    {
     "data": {
      "text/plain": [
       "array([23.77506235, 25.90793152, 14.44796339, 13.38625086, 30.95782642,\n",
       "       27.63501945, 21.09838795, 20.29635571, 22.97877629,  7.55646666,\n",
       "       10.80359335, 26.43684217, 21.24387921, 36.68363111,  8.70643644,\n",
       "       37.63070613,  6.77734705, 17.01520291, 10.23293397, 13.87057592,\n",
       "       28.4110526 ,  3.84849208, 36.09820298, 31.27980933, 34.43577525,\n",
       "       21.61291983,  8.28579134, 17.27605099, 13.98069211, 18.94498462])"
      ]
     },
     "execution_count": 40,
     "metadata": {},
     "output_type": "execute_result"
    }
   ],
   "source": [
    "q2"
   ]
  },
  {
   "cell_type": "code",
   "execution_count": 41,
   "id": "135e4514-d169-4326-a68d-671960beb898",
   "metadata": {},
   "outputs": [
    {
     "data": {
      "text/plain": [
       "array([51.01611139, 61.37384657, 54.58824101, 54.24744202, 57.46986682,\n",
       "       51.05774993, 44.22655963, 47.22199274, 47.96861929, 48.65183471])"
      ]
     },
     "execution_count": 41,
     "metadata": {},
     "output_type": "execute_result"
    }
   ],
   "source": [
    "q3"
   ]
  },
  {
   "cell_type": "code",
   "execution_count": 42,
   "id": "414a9fa5-c133-4c0a-b78a-9cef2d730f8b",
   "metadata": {},
   "outputs": [
    {
     "name": "stderr",
     "output_type": "stream",
     "text": [
      "/Users/bob_j_zou/venv/lib/python3.9/site-packages/numpy/core/_asarray.py:136: VisibleDeprecationWarning: Creating an ndarray from ragged nested sequences (which is a list-or-tuple of lists-or-tuples-or ndarrays with different lengths or shapes) is deprecated. If you meant to do this, you must specify 'dtype=object' when creating the ndarray\n",
      "  return array(a, dtype, copy=False, order=order, subok=True)\n"
     ]
    }
   ],
   "source": [
    "np.save(\"P2q\",[q1,q2,q3])"
   ]
  },
  {
   "cell_type": "code",
   "execution_count": 43,
   "id": "a0cc8f51-26ca-49e6-863a-b45a73fc1408",
   "metadata": {},
   "outputs": [
    {
     "data": {
      "text/plain": [
       "array([[0.05      ],\n",
       "       [0.05      ],\n",
       "       [0.05      ],\n",
       "       [0.05      ],\n",
       "       [0.05      ],\n",
       "       [0.05      ],\n",
       "       [0.05      ],\n",
       "       [0.05      ],\n",
       "       [0.05      ],\n",
       "       [0.05      ],\n",
       "       [0.05      ],\n",
       "       [0.05      ],\n",
       "       [0.05      ],\n",
       "       [0.05      ],\n",
       "       [0.05      ],\n",
       "       [0.05      ],\n",
       "       [0.05      ],\n",
       "       [0.05      ],\n",
       "       [0.05      ],\n",
       "       [0.05      ],\n",
       "       [0.03333333],\n",
       "       [0.03333333],\n",
       "       [0.03333333],\n",
       "       [0.03333333],\n",
       "       [0.03333333],\n",
       "       [0.03333333],\n",
       "       [0.03333333],\n",
       "       [0.03333333],\n",
       "       [0.03333333],\n",
       "       [0.03333333],\n",
       "       [0.03333333],\n",
       "       [0.03333333],\n",
       "       [0.03333333],\n",
       "       [0.03333333],\n",
       "       [0.03333333],\n",
       "       [0.03333333],\n",
       "       [0.03333333],\n",
       "       [0.03333333],\n",
       "       [0.03333333],\n",
       "       [0.03333333],\n",
       "       [0.03333333],\n",
       "       [0.03333333],\n",
       "       [0.03333333],\n",
       "       [0.03333333],\n",
       "       [0.03333333],\n",
       "       [0.03333333],\n",
       "       [0.03333333],\n",
       "       [0.03333333],\n",
       "       [0.03333333],\n",
       "       [0.03333333],\n",
       "       [0.1       ],\n",
       "       [0.1       ],\n",
       "       [0.1       ],\n",
       "       [0.1       ],\n",
       "       [0.1       ],\n",
       "       [0.1       ],\n",
       "       [0.1       ],\n",
       "       [0.1       ],\n",
       "       [0.1       ],\n",
       "       [0.1       ],\n",
       "       [0.        ],\n",
       "       [0.        ],\n",
       "       [0.        ],\n",
       "       [0.        ],\n",
       "       [0.        ],\n",
       "       [0.        ],\n",
       "       [0.        ],\n",
       "       [0.        ],\n",
       "       [0.        ],\n",
       "       [0.        ],\n",
       "       [0.        ],\n",
       "       [0.        ],\n",
       "       [0.        ],\n",
       "       [0.        ],\n",
       "       [0.        ],\n",
       "       [0.        ],\n",
       "       [0.        ],\n",
       "       [0.        ],\n",
       "       [0.        ],\n",
       "       [0.        ],\n",
       "       [0.        ],\n",
       "       [0.        ],\n",
       "       [0.        ],\n",
       "       [0.        ],\n",
       "       [0.        ],\n",
       "       [0.        ],\n",
       "       [0.        ],\n",
       "       [0.        ],\n",
       "       [0.        ],\n",
       "       [0.        ],\n",
       "       [0.        ],\n",
       "       [0.        ],\n",
       "       [0.        ],\n",
       "       [0.        ],\n",
       "       [0.        ],\n",
       "       [0.        ],\n",
       "       [0.        ],\n",
       "       [0.        ],\n",
       "       [0.        ],\n",
       "       [0.        ],\n",
       "       [0.        ],\n",
       "       [0.        ],\n",
       "       [0.        ],\n",
       "       [0.        ],\n",
       "       [0.        ],\n",
       "       [0.        ],\n",
       "       [0.        ],\n",
       "       [0.        ],\n",
       "       [0.        ],\n",
       "       [0.        ],\n",
       "       [0.        ],\n",
       "       [0.        ],\n",
       "       [0.        ],\n",
       "       [0.        ],\n",
       "       [0.        ],\n",
       "       [0.        ],\n",
       "       [0.        ],\n",
       "       [0.        ],\n",
       "       [0.        ],\n",
       "       [0.        ],\n",
       "       [0.        ],\n",
       "       [0.        ],\n",
       "       [0.        ],\n",
       "       [0.        ],\n",
       "       [0.        ],\n",
       "       [0.        ],\n",
       "       [0.        ],\n",
       "       [0.        ],\n",
       "       [0.        ],\n",
       "       [0.        ],\n",
       "       [0.        ],\n",
       "       [0.        ],\n",
       "       [0.        ],\n",
       "       [0.        ],\n",
       "       [0.        ],\n",
       "       [0.        ],\n",
       "       [0.        ],\n",
       "       [0.        ],\n",
       "       [0.        ],\n",
       "       [0.        ],\n",
       "       [0.        ],\n",
       "       [0.        ],\n",
       "       [0.        ],\n",
       "       [0.        ],\n",
       "       [0.        ],\n",
       "       [0.        ],\n",
       "       [0.        ],\n",
       "       [0.        ],\n",
       "       [0.        ],\n",
       "       [0.        ],\n",
       "       [0.        ],\n",
       "       [0.        ],\n",
       "       [0.        ],\n",
       "       [0.        ],\n",
       "       [0.        ],\n",
       "       [0.        ],\n",
       "       [0.        ],\n",
       "       [0.        ],\n",
       "       [0.        ],\n",
       "       [0.        ],\n",
       "       [0.        ],\n",
       "       [0.        ],\n",
       "       [0.        ],\n",
       "       [0.        ],\n",
       "       [0.        ],\n",
       "       [0.        ],\n",
       "       [0.        ],\n",
       "       [0.        ],\n",
       "       [0.        ],\n",
       "       [0.        ],\n",
       "       [0.        ],\n",
       "       [0.        ],\n",
       "       [0.        ],\n",
       "       [0.        ],\n",
       "       [0.        ],\n",
       "       [0.        ],\n",
       "       [0.        ],\n",
       "       [0.        ],\n",
       "       [0.        ],\n",
       "       [0.        ],\n",
       "       [0.        ],\n",
       "       [0.        ],\n",
       "       [0.        ],\n",
       "       [0.        ],\n",
       "       [0.        ],\n",
       "       [0.        ],\n",
       "       [0.        ],\n",
       "       [0.        ],\n",
       "       [0.        ],\n",
       "       [0.        ],\n",
       "       [0.        ],\n",
       "       [0.        ],\n",
       "       [0.        ],\n",
       "       [0.        ],\n",
       "       [0.        ],\n",
       "       [0.        ],\n",
       "       [0.        ],\n",
       "       [0.        ],\n",
       "       [0.        ],\n",
       "       [0.        ],\n",
       "       [0.        ],\n",
       "       [0.        ],\n",
       "       [0.        ],\n",
       "       [0.        ],\n",
       "       [0.        ],\n",
       "       [0.        ],\n",
       "       [0.        ],\n",
       "       [0.        ],\n",
       "       [0.        ],\n",
       "       [0.        ],\n",
       "       [0.        ],\n",
       "       [0.        ],\n",
       "       [0.        ],\n",
       "       [0.        ],\n",
       "       [0.        ],\n",
       "       [0.        ],\n",
       "       [0.        ],\n",
       "       [0.        ],\n",
       "       [0.        ],\n",
       "       [0.        ],\n",
       "       [0.        ],\n",
       "       [0.        ],\n",
       "       [0.        ],\n",
       "       [0.        ],\n",
       "       [0.        ],\n",
       "       [0.        ],\n",
       "       [0.        ],\n",
       "       [0.        ],\n",
       "       [0.        ],\n",
       "       [0.        ],\n",
       "       [0.        ],\n",
       "       [0.        ],\n",
       "       [0.        ],\n",
       "       [0.        ],\n",
       "       [0.        ],\n",
       "       [0.        ],\n",
       "       [0.        ],\n",
       "       [1.        ]])"
      ]
     },
     "execution_count": 43,
     "metadata": {},
     "output_type": "execute_result"
    }
   ],
   "source": [
    "b"
   ]
  },
  {
   "cell_type": "code",
   "execution_count": null,
   "id": "7264ab7a-f908-4c8e-8532-10e6083cf81c",
   "metadata": {},
   "outputs": [],
   "source": []
  }
 ],
 "metadata": {
  "kernelspec": {
   "display_name": "Python 3",
   "language": "python",
   "name": "python3"
  },
  "language_info": {
   "codemirror_mode": {
    "name": "ipython",
    "version": 3
   },
   "file_extension": ".py",
   "mimetype": "text/x-python",
   "name": "python",
   "nbconvert_exporter": "python",
   "pygments_lexer": "ipython3",
   "version": "3.9.10"
  }
 },
 "nbformat": 4,
 "nbformat_minor": 5
}
