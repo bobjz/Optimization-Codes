{
 "cells": [
  {
   "cell_type": "code",
   "execution_count": 2,
   "id": "f0bd004a-86ea-45da-85f7-ad261cb1c0fa",
   "metadata": {},
   "outputs": [],
   "source": [
    "import numpy as np\n",
    "import numpy.linalg as nplin\n",
    "import scipy.linalg as cplin\n",
    "import scipy.optimize as opt\n",
    "#Load data \n",
    "problem=1;\n",
    "A=np.load(\"P\"+str(problem)+\"A.npy\");\n",
    "b=np.load(\"P\"+str(problem)+\"b.npy\");\n",
    "c=np.load(\"P\"+str(problem)+\"c.npy\");\n",
    "AT=np.transpose(A)\n",
    "#Set parameters\n",
    "mu=100; gamma=0.9; eps_mu=1e-4; \n",
    "#Set initial guess x_0/s_0\n",
    "m1=10; m2=10; M=m1+m2; N=2\n",
    "x_0=np.zeros([M*(M+1),1]);\n",
    "x_0[:m1*M]=1/m1/M\n",
    "x_0[m1*M:(m1+m2)*M]=1/m2/M\n",
    "x_0[-M:]=1/M;\n",
    "y_0=np.zeros([(N+1)*M+1-N,1]);\n",
    "y_0[:M]=-1;y_0[-1]=-1;\n",
    "s_0=c-np.matmul(AT,y_0)\n"
   ]
  },
  {
   "cell_type": "code",
   "execution_count": 3,
   "id": "c8fc999a-ca6e-4995-a99b-c4df3e7ad43e",
   "metadata": {},
   "outputs": [],
   "source": [
    "def stepsize(x,s,dx,ds,eta=0.9995):\n",
    "    alphax = -1/np.min(np.min(np.divide(dx,x)),-1); alphax = min(1, eta * alphax);\n",
    "    alphas = -1/np.min(np.min(np.divide(ds,s)),-1); alphas = min(1, eta * alphas);\n",
    "    return (alphax,alphas)"
   ]
  },
  {
   "cell_type": "code",
   "execution_count": 4,
   "id": "88d3310c-99f8-4952-b0f4-53411e37e876",
   "metadata": {},
   "outputs": [
    {
     "name": "stdout",
     "output_type": "stream",
     "text": [
      "0.0023075858660583847\n",
      "1.0409065013004517\n",
      "0.0009084687663717495\n",
      "0.8437258128258707\n",
      "0.00047111094146209015\n",
      "0.721947216490907\n",
      "0.00031671331999923803\n",
      "0.6767045590465769\n",
      "7.662691725912615e-05\n",
      "0.5825317840050166\n"
     ]
    }
   ],
   "source": [
    "x=np.array(x_0);\n",
    "s=np.array(s_0);\n",
    "p=np.array(y_0);\n",
    "max_ite=50;\n",
    "count=0;\n",
    "eps=1e-4\n",
    "while (np.mean(np.multiply(x,s))>eps and count<max_ite):\n",
    "    rp = np.matmul(A,x)-b;\n",
    "    rd = np.matmul(AT,p)+s-c;\n",
    "    rc = np.multiply(x,s);\n",
    "    mu = np.mean(rc);\n",
    "    \n",
    "    ## Check relative decrease in residual, for purposes of convergence test\n",
    "    ##residual  = norm([Rb;Rc;Rxs])/bc;\n",
    "    \n",
    "    ## ----- Predictor step -----\n",
    "    \n",
    "    # Get affine-scaling direction\n",
    "    D2 = np.diag(np.divide(x,s)[:,0]);\n",
    "    t1 = np.multiply(x,rd)-rc;  \n",
    "    t2 = -(rp+np.matmul(A,np.divide(t1,s))); \n",
    "    AD2A=np.matmul(A,np.matmul(D2,AT))\n",
    "    #%% Solve linear system AD^2A dp == t2;\n",
    "    dp=nplin.solve(AD2A,t2)\n",
    "  \n",
    "    dx = np.divide((np.multiply(np.matmul(AT,dp),x)+t1),s);\n",
    "    ds = -np.divide((np.multiply(s,dx)+rc),x);\n",
    "    eta = max(0.95,1-mu); \n",
    "    \n",
    "    #%(14.21ab)\n",
    "    alphax = -1/np.min(np.min(np.divide(dx,x)),-1);\n",
    "    alphas = -1/np.min(np.min(np.divide(ds,s)),-1);\n",
    "    #%(14.22)\n",
    "\n",
    "    \n",
    "    mu_aff = np.mean(np.multiply(x+alphax*dx,s+alphas*ds));\n",
    "    sigma = (mu_aff/mu)**3;\n",
    "    \n",
    "    rc = rc+np.multiply(dx,ds)-sigma*mu;\n",
    "    t1 = np.multiply(x,rd)-rc; \n",
    "    t2 = -(rp+np.matmul(A,np.divide(t1,s)));\n",
    "    \n",
    "    #%% solve linear system AD^2A dp == t2;\n",
    "    dp=nplin.solve(AD2A,t2)\n",
    "    \n",
    "    dx = np.divide((np.multiply(np.matmul(AT,dp),x)+t1),s);\n",
    "    ds = -np.divide((np.multiply(s,dx)+rc),x);\n",
    "\n",
    "    alphax, alphas = stepsize(x, s, dx, ds, eta);\n",
    "    x = x + alphax * dx;\n",
    "    s = s + alphas * ds;\n",
    "    p = p + alphas * dp;\n",
    "    \n",
    "    print(np.mean(np.multiply(x,s)))\n",
    "    print(np.sum(np.multiply(x,c)))\n",
    "    count+=1\n",
    "\n"
   ]
  },
  {
   "cell_type": "code",
   "execution_count": 6,
   "id": "8f5ddbeb-c173-474b-9cd0-fa4f6583868d",
   "metadata": {},
   "outputs": [
    {
     "data": {
      "image/png": "[encoded data removed]",
      "text/plain": [
       "<Figure size 432x288 with 1 Axes>"
      ]
     },
     "metadata": {
      "needs_background": "light"
     },
     "output_type": "display_data"
    }
   ],
   "source": [
    "qs=np.load(\"P1q.npy\",allow_pickle=True)\n",
    "q1=qs[0]\n",
    "q2=qs[1]\n",
    "import matplotlib.pyplot as plt\n",
    "\n",
    "plt.bar(np.concatenate([q1,q2]),x[-M:,0],width=0.1)\n",
    "plt.savefig(\"P1_pc\")"
   ]
  },
  {
   "cell_type": "code",
   "execution_count": 7,
   "id": "1d6be752-1e2c-4f00-95a7-827e276b68b4",
   "metadata": {},
   "outputs": [
    {
     "data": {
      "text/plain": [
       "array([-0.41258837,  0.02793465, -0.30337507,  0.01861933,  0.09304836,\n",
       "       -0.17540167,  0.72967253,  0.19329906, -0.21152674, -0.01773728])"
      ]
     },
     "execution_count": 7,
     "metadata": {},
     "output_type": "execute_result"
    }
   ],
   "source": [
    "q1"
   ]
  },
  {
   "cell_type": "code",
   "execution_count": 8,
   "id": "c049b060-7c54-4bfa-8b15-d34e81f7a635",
   "metadata": {},
   "outputs": [
    {
     "data": {
      "text/plain": [
       "array([0.82963183, 0.84673504, 0.92476774, 0.88551538, 0.85099446,\n",
       "       0.90818556, 1.33082285, 1.02993049, 1.56206885, 0.74440564])"
      ]
     },
     "execution_count": 8,
     "metadata": {},
     "output_type": "execute_result"
    }
   ],
   "source": [
    "q2"
   ]
  },
  {
   "cell_type": "code",
   "execution_count": null,
   "id": "7094af25-17ca-46fc-94cc-9878e724be1c",
   "metadata": {},
   "outputs": [],
   "source": []
  }
 ],
 "metadata": {
  "kernelspec": {
   "display_name": "Python 3",
   "language": "python",
   "name": "python3"
  },
  "language_info": {
   "codemirror_mode": {
    "name": "ipython",
    "version": 3
   },
   "file_extension": ".py",
   "mimetype": "text/x-python",
   "name": "python",
   "nbconvert_exporter": "python",
   "pygments_lexer": "ipython3",
   "version": "3.9.10"
  }
 },
 "nbformat": 4,
 "nbformat_minor": 5
}
