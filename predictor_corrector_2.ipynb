{
 "cells": [
  {
   "cell_type": "code",
   "execution_count": 2,
   "id": "f0bd004a-86ea-45da-85f7-ad261cb1c0fa",
   "metadata": {},
   "outputs": [],
   "source": [
    "import numpy as np\n",
    "import numpy.linalg as nplin\n",
    "import scipy.linalg as cplin\n",
    "import scipy.optimize as opt\n",
    "#Load data \n",
    "problem=2;\n",
    "A=np.load(\"P\"+str(problem)+\"A.npy\");\n",
    "b=np.load(\"P\"+str(problem)+\"b.npy\");\n",
    "c=np.load(\"P\"+str(problem)+\"c.npy\");\n",
    "AT=np.transpose(A)\n",
    "#Set parameters\n",
    "mu=100; gamma=0.9; eps_mu=1e-4; \n",
    "#Set initial guess x_0/s_0\n",
    "m1=20; m2=30; m3=10; M=m1+m2+m3; N=3\n",
    "x_0=np.zeros([M*(M+1),1]);\n",
    "x_0[:m1*M]=1/m1/M\n",
    "x_0[m1*M:(m1+m2)*M]=1/m2/M\n",
    "x_0[(m1+m2)*M:M*M]=1/m3/M\n",
    "x_0[-M:]=1/M;\n",
    "y_0=np.zeros([(N+1)*M+1-N,1]);\n",
    "y_0[:M]=-1;y_0[-1]=-1;\n",
    "s_0=c-np.matmul(AT,y_0)\n"
   ]
  },
  {
   "cell_type": "code",
   "execution_count": 3,
   "id": "c8fc999a-ca6e-4995-a99b-c4df3e7ad43e",
   "metadata": {},
   "outputs": [],
   "source": [
    "def stepsize(x,s,dx,ds,eta=0.9995):\n",
    "    alphax = -1/np.min(np.min(np.divide(dx,x)),-1); alphax = min(1, eta * alphax);\n",
    "    alphas = -1/np.min(np.min(np.divide(ds,s)),-1); alphas = min(1, eta * alphas);\n",
    "    return (alphax,alphas)"
   ]
  },
  {
   "cell_type": "code",
   "execution_count": 4,
   "id": "88d3310c-99f8-4952-b0f4-53411e37e876",
   "metadata": {},
   "outputs": [
    {
     "name": "stdout",
     "output_type": "stream",
     "text": [
      "0.9623383580523182\n",
      "2763.8174324113916\n",
      "0.34673462073262107\n",
      "2313.5215504756175\n",
      "0.195316688833924\n",
      "2022.9543551683203\n",
      "0.06610578023343494\n",
      "1653.1055844229193\n",
      "0.018574789483892497\n",
      "1513.5493055620873\n",
      "0.00665459484134546\n",
      "1474.2413081761124\n",
      "0.0035039698439867572\n",
      "1466.0708640092475\n",
      "0.0009931597777130905\n",
      "1457.3547332402588\n",
      "0.00027390383850250575\n",
      "1454.8563761829207\n",
      "1.4582198059838536e-05\n",
      "1453.9296392744252\n"
     ]
    }
   ],
   "source": [
    "x=np.array(x_0);\n",
    "s=np.array(s_0);\n",
    "p=np.array(y_0);\n",
    "max_ite=50;\n",
    "count=0;\n",
    "eps=1e-4\n",
    "while (np.mean(np.multiply(x,s))>eps and count<max_ite):\n",
    "    rp = np.matmul(A,x)-b;\n",
    "    rd = np.matmul(AT,p)+s-c;\n",
    "    rc = np.multiply(x,s);\n",
    "    mu = np.mean(rc);\n",
    "    \n",
    "    ## Check relative decrease in residual, for purposes of convergence test\n",
    "    ##residual  = norm([Rb;Rc;Rxs])/bc;\n",
    "    \n",
    "    ## ----- Predictor step -----\n",
    "    \n",
    "    # Get affine-scaling direction\n",
    "    D2 = np.diag(np.divide(x,s)[:,0]);\n",
    "    t1 = np.multiply(x,rd)-rc;  \n",
    "    t2 = -(rp+np.matmul(A,np.divide(t1,s))); \n",
    "    AD2A=np.matmul(A,np.matmul(D2,AT))\n",
    "    #%% Solve linear system AD^2A dp == t2;\n",
    "    dp=nplin.solve(AD2A,t2)\n",
    "  \n",
    "    dx = np.divide((np.multiply(np.matmul(AT,dp),x)+t1),s);\n",
    "    ds = -np.divide((np.multiply(s,dx)+rc),x);\n",
    "    eta = max(0.95,1-mu); \n",
    "    \n",
    "    #%(14.21ab)\n",
    "    alphax = -1/np.min(np.min(np.divide(dx,x)),-1);\n",
    "    alphas = -1/np.min(np.min(np.divide(ds,s)),-1);\n",
    "    #%(14.22)\n",
    "\n",
    "    \n",
    "    mu_aff = np.mean(np.multiply(x+alphax*dx,s+alphas*ds));\n",
    "    sigma = (mu_aff/mu)**3;\n",
    "    \n",
    "    rc = rc+np.multiply(dx,ds)-sigma*mu;\n",
    "    t1 = np.multiply(x,rd)-rc; \n",
    "    t2 = -(rp+np.matmul(A,np.divide(t1,s)));\n",
    "    \n",
    "    #%% solve linear system AD^2A dp == t2;\n",
    "    dp=nplin.solve(AD2A,t2)\n",
    "    \n",
    "    dx = np.divide((np.multiply(np.matmul(AT,dp),x)+t1),s);\n",
    "    ds = -np.divide((np.multiply(s,dx)+rc),x);\n",
    "\n",
    "    alphax, alphas = stepsize(x, s, dx, ds, eta);\n",
    "    x = x + alphax * dx;\n",
    "    s = s + alphas * ds;\n",
    "    p = p + alphas * dp;\n",
    "    \n",
    "    print(np.mean(np.multiply(x,s)))\n",
    "    print(np.sum(np.multiply(x,c)))\n",
    "    count+=1\n",
    "\n"
   ]
  },
  {
   "cell_type": "code",
   "execution_count": 5,
   "id": "c0e64562-e73c-4f4c-969f-b28f00c82d93",
   "metadata": {},
   "outputs": [
    {
     "data": {
      "image/png": "[encoded data removed]",
      "text/plain": [
       "<Figure size 432x288 with 1 Axes>"
      ]
     },
     "metadata": {
      "needs_background": "light"
     },
     "output_type": "display_data"
    }
   ],
   "source": [
    "qs=np.load(\"P2q.npy\",allow_pickle=True)\n",
    "q1=qs[0]\n",
    "q2=qs[1]\n",
    "q3=qs[2]\n",
    "import matplotlib.pyplot as plt\n",
    "\n",
    "plt.bar(np.concatenate([q1,q2,q3]),x[-M:,0],width=0.4)\n",
    "plt.savefig(\"P2_pc\")"
   ]
  },
  {
   "cell_type": "code",
   "execution_count": 6,
   "id": "c14eebb3-b6cb-4515-ad94-0ff7ddfaf5d6",
   "metadata": {},
   "outputs": [
    {
     "data": {
      "text/plain": [
       "10"
      ]
     },
     "execution_count": 6,
     "metadata": {},
     "output_type": "execute_result"
    }
   ],
   "source": [
    "count"
   ]
  },
  {
   "cell_type": "code",
   "execution_count": 7,
   "id": "c8a5aaed-0aec-4f88-9a20-036a1ae13455",
   "metadata": {},
   "outputs": [
    {
     "data": {
      "text/plain": [
       "array([ 2.13647389, -2.64470809,  5.84631894, -6.98020947, -2.94254153,\n",
       "        0.04958081, -6.58950368,  0.95205625, -5.73286034, -0.09772471,\n",
       "       -1.41441751,  4.08656681, -3.81226385,  0.27255582, -5.02069786,\n",
       "       -3.17954019,  7.19494216, -8.38522149, -9.47602305,  4.71295821])"
      ]
     },
     "execution_count": 7,
     "metadata": {},
     "output_type": "execute_result"
    }
   ],
   "source": [
    "q1"
   ]
  },
  {
   "cell_type": "code",
   "execution_count": 8,
   "id": "042411e9-0a86-41ef-a037-61a757df6877",
   "metadata": {},
   "outputs": [
    {
     "data": {
      "text/plain": [
       "array([23.77506235, 25.90793152, 14.44796339, 13.38625086, 30.95782642,\n",
       "       27.63501945, 21.09838795, 20.29635571, 22.97877629,  7.55646666,\n",
       "       10.80359335, 26.43684217, 21.24387921, 36.68363111,  8.70643644,\n",
       "       37.63070613,  6.77734705, 17.01520291, 10.23293397, 13.87057592,\n",
       "       28.4110526 ,  3.84849208, 36.09820298, 31.27980933, 34.43577525,\n",
       "       21.61291983,  8.28579134, 17.27605099, 13.98069211, 18.94498462])"
      ]
     },
     "execution_count": 8,
     "metadata": {},
     "output_type": "execute_result"
    }
   ],
   "source": [
    "q2"
   ]
  },
  {
   "cell_type": "code",
   "execution_count": 9,
   "id": "f554432f-44d3-4c54-a327-7bade3cefa91",
   "metadata": {},
   "outputs": [
    {
     "data": {
      "text/plain": [
       "array([51.01611139, 61.37384657, 54.58824101, 54.24744202, 57.46986682,\n",
       "       51.05774993, 44.22655963, 47.22199274, 47.96861929, 48.65183471])"
      ]
     },
     "execution_count": 9,
     "metadata": {},
     "output_type": "execute_result"
    }
   ],
   "source": [
    "q3"
   ]
  },
  {
   "cell_type": "code",
   "execution_count": null,
   "id": "7ee17161-6323-4956-a0cc-898bd1e7f008",
   "metadata": {},
   "outputs": [],
   "source": []
  }
 ],
 "metadata": {
  "kernelspec": {
   "display_name": "Python 3",
   "language": "python",
   "name": "python3"
  },
  "language_info": {
   "codemirror_mode": {
    "name": "ipython",
    "version": 3
   },
   "file_extension": ".py",
   "mimetype": "text/x-python",
   "name": "python",
   "nbconvert_exporter": "python",
   "pygments_lexer": "ipython3",
   "version": "3.9.10"
  }
 },
 "nbformat": 4,
 "nbformat_minor": 5
}
